{
 "cells": [
  {
   "cell_type": "markdown",
   "metadata": {},
   "source": [
    "# Operationalizing machine learning models"
   ]
  },
  {
   "cell_type": "code",
   "execution_count": null,
   "metadata": {},
   "outputs": [],
   "source": [
    "import matplotlib.pyplot as plt\n",
    "import seaborn as sns\n",
    "import numpy as np\n",
    "import pandas as pd\n",
    "from sklearn import clone\n",
    "from sklearn.dummy import DummyClassifier\n",
    "from sklearn.ensemble import RandomForestClassifier\n",
    "from sklearn.linear_model import LogisticRegression, LinearRegression\n",
    "from sklearn.metrics import precision_score, recall_score, average_precision_score, PrecisionRecallDisplay, \\\n",
    "    ConfusionMatrixDisplay, make_scorer, precision_recall_curve\n",
    "from sklearn.model_selection import train_test_split, cross_validate\n",
    "from sklearn.naive_bayes import GaussianNB\n",
    "from sklearn.preprocessing import RobustScaler\n",
    "\n",
    "RANDOM_SEED = 42"
   ]
  },
  {
   "cell_type": "code",
   "execution_count": null,
   "metadata": {},
   "outputs": [],
   "source": [
    "url_creditcard_holdout = 'https://github.com/SIDN/tma22-ml-workshop/blob/main/data/creditcard_holdout.csv.gz?raw=true'\n",
    "url_creditcard_week1_2 = 'https://github.com/SIDN/tma22-ml-workshop/blob/main/data/creditcard_1-2.csv.gz?raw=true'\n",
    "url_creditcard_week3_52 = 'https://github.com/SIDN/tma22-ml-workshop/blob/main/data/creditcard_3-52.csv.gz?raw=true'\n",
    "\n",
    "\n",
    "all_data = pd.concat([pd.read_csv(url_creditcard_week1_2, compression='gzip'), \n",
    "                      pd.read_csv(url_creditcard_week3_52, compression='gzip')]).drop('target', axis=1)\n",
    "all_data.describe()"
   ]
  },
  {
   "cell_type": "code",
   "execution_count": null,
   "metadata": {},
   "outputs": [],
   "source": []
  }
 ],
 "metadata": {
  "kernelspec": {
   "display_name": "Python (tma-phd)",
   "language": "python",
   "name": "tmaphd"
  },
  "language_info": {
   "codemirror_mode": {
    "name": "ipython",
    "version": 3
   },
   "file_extension": ".py",
   "mimetype": "text/x-python",
   "name": "python",
   "nbconvert_exporter": "python",
   "pygments_lexer": "ipython3",
   "version": "3.10.4"
  }
 },
 "nbformat": 4,
 "nbformat_minor": 4
}
